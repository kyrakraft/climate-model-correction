{
 "cells": [
  {
   "cell_type": "code",
   "execution_count": 2,
   "id": "2ec0515c-354f-4474-bd27-6acda966b5d1",
   "metadata": {},
   "outputs": [
    {
     "name": "stdout",
     "output_type": "stream",
     "text": [
      "ERA5 shape: (900, 25, 56)\n",
      "CMIP6 shape: (900, 25, 56)\n"
     ]
    }
   ],
   "source": [
    "import xarray as xr\n",
    "import os\n",
    "import numpy as np\n",
    "\n",
    "# Set base paths\n",
    "BASE_DIR = os.path.abspath(os.path.join(os.getcwd(), \"..\"))\n",
    "PROCESSED_DATA_DIR = os.path.join(BASE_DIR, \"data\", \"processed\")\n",
    "\n",
    "# Load processed NetCDF files\n",
    "era_path = os.path.join(PROCESSED_DATA_DIR, \"era5_regridded_tas_1940_2014_us.nc\")\n",
    "cmip_path = os.path.join(PROCESSED_DATA_DIR, \"gfdl_esm4_tas_celsius_1940_2014_us.nc\")\n",
    "\n",
    "tas_era5 = xr.open_dataarray(era_path)\n",
    "tas_cmip = xr.open_dataarray(cmip_path)\n",
    "\n",
    "print(\"ERA5 shape:\", tas_era5.shape)\n",
    "print(\"CMIP6 shape:\", tas_cmip.shape)\n"
   ]
  },
  {
   "cell_type": "code",
   "execution_count": null,
   "id": "74debfcd-24c2-4593-a28b-bee5c7f08fa0",
   "metadata": {},
   "outputs": [],
   "source": []
  }
 ],
 "metadata": {
  "kernelspec": {
   "display_name": "Python 3 (ipykernel)",
   "language": "python",
   "name": "python3"
  },
  "language_info": {
   "codemirror_mode": {
    "name": "ipython",
    "version": 3
   },
   "file_extension": ".py",
   "mimetype": "text/x-python",
   "name": "python",
   "nbconvert_exporter": "python",
   "pygments_lexer": "ipython3",
   "version": "3.10.13"
  }
 },
 "nbformat": 4,
 "nbformat_minor": 5
}
