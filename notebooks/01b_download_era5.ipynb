{
 "cells": [
  {
   "cell_type": "code",
   "execution_count": 10,
   "id": "64ac7aef-dfdf-405f-8dc3-edbdaec4ef8e",
   "metadata": {},
   "outputs": [],
   "source": [
    "import os\n",
    "import cdsapi\n",
    "from dotenv import load_dotenv\n",
    "\n",
    "# Load .env variables\n",
    "load_dotenv()\n",
    "\n",
    "url = os.getenv(\"CDSAPI_URL\")\n",
    "key = os.getenv(\"CDSAPI_KEY\")\n",
    "\n",
    "# Write temporary .cdsapirc file to home dir\n",
    "cdsapirc_path = os.path.expanduser(\"~/.cdsapirc\")\n",
    "with open(cdsapirc_path, \"w\") as f:\n",
    "    f.write(f\"url: {url}\\n\")\n",
    "    f.write(f\"key: {key}\\n\")\n",
    "\n",
    "BASE_DIR = os.path.abspath(os.path.join(os.getcwd(), \"..\"))\n",
    "RAW_DATA_DIR = os.path.join(BASE_DIR, \"data\", \"raw\")\n",
    "os.makedirs(RAW_DATA_DIR, exist_ok=True)\n",
    "\n",
    "save_path = os.path.join(RAW_DATA_DIR, \"era5_t2m_1940_2014_us.nc\")\n"
   ]
  },
  {
   "cell_type": "code",
   "execution_count": 11,
   "id": "374fd7c1-43ed-4268-81c4-6430ef20f5f9",
   "metadata": {},
   "outputs": [
    {
     "name": "stderr",
     "output_type": "stream",
     "text": [
      "2025-05-10 16:31:00,434 INFO [2024-09-26T00:00:00] Watch our [Forum](https://forum.ecmwf.int/) for Announcements, news and other discussed topics.\n",
      "2025-05-10 16:31:00,435 WARNING [2024-06-16T00:00:00] CDS API syntax is changed and some keys or parameter names may have also changed. To avoid requests failing, please use the \"Show API request code\" tool on the dataset Download Form to check you are using the correct syntax for your API request.\n",
      "2025-05-10 16:31:01,181 INFO Request ID is 283ada3d-10cd-4d94-8f37-1d2bcd051c11\n",
      "2025-05-10 16:31:01,393 INFO status has been updated to accepted\n",
      "2025-05-10 16:31:52,631 INFO status has been updated to running\n",
      "2025-05-10 16:32:18,497 INFO status has been updated to successful\n"
     ]
    },
    {
     "data": {
      "application/vnd.jupyter.widget-view+json": {
       "model_id": "9f4c635e202749559797295766b8fbb3",
       "version_major": 2,
       "version_minor": 0
      },
      "text/plain": [
       "2d1349b6afa895d724bacb11713ee744.nc:   0%|          | 0.00/41.9M [00:00<?, ?B/s]"
      ]
     },
     "metadata": {},
     "output_type": "display_data"
    },
    {
     "name": "stdout",
     "output_type": "stream",
     "text": [
      "✅ ERA5 data saved to /Users/kyrakraft/Desktop/projects/climate-model-correction/data/raw/era5_t2m_1940_2014_us.nc\n"
     ]
    }
   ],
   "source": [
    "\n",
    "c = cdsapi.Client()\n",
    "\n",
    "# Subset: years 1940–2014, US-ish region\n",
    "c.retrieve(\n",
    "    'reanalysis-era5-single-levels-monthly-means',\n",
    "    {\n",
    "        'product_type': 'monthly_averaged_reanalysis',\n",
    "        'variable': '2m_temperature',\n",
    "        'year': [str(y) for y in range(1940, 2015)],\n",
    "        'month': [f\"{m:02d}\" for m in range(1, 13)],\n",
    "        'time': '00:00',\n",
    "        'format': 'netcdf',\n",
    "        'area': [50, -130, 25, -60],  # N, W, S, E\n",
    "    },\n",
    "    save_path\n",
    ")\n",
    "\n",
    "print(f\"✅ ERA5 data saved to {save_path}\")\n"
   ]
  },
  {
   "cell_type": "code",
   "execution_count": 12,
   "id": "a657e649-09ab-4d01-8de8-fca0fde51754",
   "metadata": {},
   "outputs": [
    {
     "name": "stdout",
     "output_type": "stream",
     "text": [
      "🧹 Removed temporary .cdsapirc file\n"
     ]
    }
   ],
   "source": [
    "os.remove(cdsapirc_path)\n",
    "print(\"🧹 Removed temporary .cdsapirc file\")"
   ]
  },
  {
   "cell_type": "code",
   "execution_count": null,
   "id": "163d8fba-2d51-44ad-8820-a1799b45e7f6",
   "metadata": {},
   "outputs": [],
   "source": []
  }
 ],
 "metadata": {
  "kernelspec": {
   "display_name": "Python 3 (ipykernel)",
   "language": "python",
   "name": "python3"
  },
  "language_info": {
   "codemirror_mode": {
    "name": "ipython",
    "version": 3
   },
   "file_extension": ".py",
   "mimetype": "text/x-python",
   "name": "python",
   "nbconvert_exporter": "python",
   "pygments_lexer": "ipython3",
   "version": "3.10.13"
  }
 },
 "nbformat": 4,
 "nbformat_minor": 5
}
